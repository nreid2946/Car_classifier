{
  "nbformat": 4,
  "nbformat_minor": 0,
  "metadata": {
    "colab": {
      "name": "car_classifier.ipynb",
      "version": "0.3.2",
      "provenance": [],
      "include_colab_link": true
    },
    "kernelspec": {
      "name": "python3",
      "display_name": "Python 3"
    },
    "accelerator": "TPU"
  },
  "cells": [
    {
      "cell_type": "markdown",
      "metadata": {
        "id": "view-in-github",
        "colab_type": "text"
      },
      "source": [
        "<a href=\"https://colab.research.google.com/github/revin357/Car_classifier/blob/master/car_classifier.ipynb\" target=\"_parent\"><img src=\"https://colab.research.google.com/assets/colab-badge.svg\" alt=\"Open In Colab\"/></a>"
      ]
    },
    {
      "cell_type": "code",
      "metadata": {
        "id": "83uEKrBj8xN4",
        "colab_type": "code",
        "colab": {}
      },
      "source": [
        "# Installs packages neccessary to create the model\n",
        "!pip install -U tensorflow_hub\n",
        "!pip install tf-nightly-gpu\n",
        "!pip install -q h5py pyyaml"
      ],
      "execution_count": 0,
      "outputs": []
    },
    {
      "cell_type": "code",
      "metadata": {
        "id": "CwItsFsc8Pi3",
        "colab_type": "code",
        "colab": {}
      },
      "source": [
        "# Allows Colaboratory to link to Google Drive\n",
        "from google.colab import drive\n",
        "drive.mount('/content/gdrive')"
      ],
      "execution_count": 0,
      "outputs": []
    },
    {
      "cell_type": "code",
      "metadata": {
        "id": "VFZ2F9QUFzsU",
        "colab_type": "code",
        "colab": {}
      },
      "source": [
        "# Imports Packages needed to create model\n",
        "from __future__ import absolute_import, division, print_function, unicode_literals\n",
        "\n",
        "import os\n",
        "\n",
        "import matplotlib.pylab as plt\n",
        "import tensorflow as tf\n",
        "from tensorflow import keras\n",
        "\n",
        "import tensorflow_hub as hub\n",
        "from tensorflow.keras import layers\n"
      ],
      "execution_count": 0,
      "outputs": []
    },
    {
      "cell_type": "code",
      "metadata": {
        "id": "dR7vTS75GAVq",
        "colab_type": "code",
        "colab": {}
      },
      "source": [
        "# Assigns a URL that links to the classifier to the variable classifier_url\n",
        "classifier_url =\"https://tfhub.dev/google/tf2-preview/mobilenet_v2/classification/2\""
      ],
      "execution_count": 0,
      "outputs": []
    },
    {
      "cell_type": "code",
      "metadata": {
        "id": "KqvagXb8Y17n",
        "colab_type": "code",
        "colab": {}
      },
      "source": [
        "# Assigns a image size to the variable IMAGE_SHAPE\n",
        "IMAGE_SHAPE = (224,224)\n",
        "\n",
        "\n",
        "classifier = tf.keras.Sequential([\n",
        "    hub.KerasLayer(classifier_url, input_shape=IMAGE_SHAPE+(3,))\n",
        "])"
      ],
      "execution_count": 0,
      "outputs": []
    },
    {
      "cell_type": "code",
      "metadata": {
        "id": "l3-1OdKO4HQa",
        "colab_type": "code",
        "colab": {}
      },
      "source": [
        "# Imports more packages needed for the program\n",
        "import os\n",
        "import numpy as np\n",
        "import PIL.Image as Image\n",
        "\n",
        "# Assigns the root directories for the training data to the variables training_data_root\n",
        "training_data_root = '../content/gdrive/My Drive/Software Engineering Practice/train'\n",
        "\n",
        "# Resizes the training images to fit in the model\n",
        "training_image_generator = tf.keras.preprocessing.image.ImageDataGenerator(rescale=1/255)\n",
        "training_image_data = training_image_generator.flow_from_directory(str(training_data_root), target_size=IMAGE_SHAPE)"
      ],
      "execution_count": 0,
      "outputs": []
    },
    {
      "cell_type": "code",
      "metadata": {
        "id": "7Ao58tNBb16d",
        "colab_type": "code",
        "colab": {}
      },
      "source": [
        "# pairs up image batches with label batches\n",
        "for image_batch, label_batch in training_image_data:\n",
        "  print(\"Image batch shape: \", image_batch.shape)\n",
        "  print(\"Label batch shape: \", label_batch.shape)\n",
        "  break"
      ],
      "execution_count": 0,
      "outputs": []
    },
    {
      "cell_type": "code",
      "metadata": {
        "id": "YZdUoGEEcMiP",
        "colab_type": "code",
        "colab": {}
      },
      "source": [
        "# shows the shape of the result_batch\n",
        "result_batch = classifier.predict(image_batch)\n",
        "result_batch.shape"
      ],
      "execution_count": 0,
      "outputs": []
    },
    {
      "cell_type": "code",
      "metadata": {
        "id": "BV7h9D9VcU_t",
        "colab_type": "code",
        "colab": {}
      },
      "source": [
        "# Gets the labels list from Google Drive and places them in an array\n",
        "labels_path = '../content/gdrive/My Drive/Software Engineering Practice/training_names.txt'\n",
        "prediction_labels = np.array(open(labels_path).read().splitlines())\n",
        "predicted_class_names = prediction_labels[np.argmax(label_batch, axis=-1)]\n",
        "predicted_class_names"
      ],
      "execution_count": 0,
      "outputs": []
    },
    {
      "cell_type": "code",
      "metadata": {
        "id": "LI6tIFlTdRyZ",
        "colab_type": "code",
        "colab": {}
      },
      "source": [
        "# Shows preliminary predictions for 30 images in the training data\n",
        "plt.figure(figsize=(25,19))\n",
        "plt.subplots_adjust(hspace=0.5)\n",
        "for n in range(30):\n",
        "  plt.subplot(6,5,n+1)\n",
        "  plt.imshow(image_batch[n])\n",
        "  plt.title(predicted_class_names[n])\n",
        "  plt.axis('off')\n",
        "  _= plt.suptitle(\"Preliminary predictions\")"
      ],
      "execution_count": 0,
      "outputs": []
    },
    {
      "cell_type": "code",
      "metadata": {
        "id": "IoRt3x_dd5Bh",
        "colab_type": "code",
        "colab": {}
      },
      "source": [
        "# Downloads a feature extractor and initializes the feature extractor layer to accept images of size 224 x 224\n",
        "feature_extractor_url = \"https://tfhub.dev/google/tf2-preview/mobilenet_v2/feature_vector/2\"\n",
        "feature_extractor_layer = hub.KerasLayer(feature_extractor_url, input_shape=(224,224,3))"
      ],
      "execution_count": 0,
      "outputs": []
    },
    {
      "cell_type": "code",
      "metadata": {
        "id": "56kFP4QdeXJY",
        "colab_type": "code",
        "colab": {}
      },
      "source": [
        "# Feature extractor returns a 1280 element vector for each image\n",
        "feature_batch = feature_extractor_layer(image_batch)\n",
        "print(feature_batch.shape)"
      ],
      "execution_count": 0,
      "outputs": []
    },
    {
      "cell_type": "code",
      "metadata": {
        "id": "G_i6dwkFekTh",
        "colab_type": "code",
        "colab": {}
      },
      "source": [
        "# Freezes the feature extractor layer of the model to prevent retraining\n",
        "feature_extractor_layer.trainable = False"
      ],
      "execution_count": 0,
      "outputs": []
    },
    {
      "cell_type": "code",
      "metadata": {
        "id": "L_AyKhJJerFM",
        "colab_type": "code",
        "colab": {}
      },
      "source": [
        "# Wraps the extraction layer in a sequential model and shows a summary\n",
        "model = tf.keras.Sequential([\n",
        "    feature_extractor_layer,\n",
        "    layers.Dense(training_image_data.num_classes, activation='softmax')\n",
        "])\n",
        "\n",
        "\n",
        "model.summary()\n",
        "\n",
        "predictions = model(image_batch)\n",
        "predictions.shape"
      ],
      "execution_count": 0,
      "outputs": []
    },
    {
      "cell_type": "code",
      "metadata": {
        "id": "sfr9naXYe94M",
        "colab_type": "code",
        "colab": {}
      },
      "source": [
        ""
      ],
      "execution_count": 0,
      "outputs": []
    },
    {
      "cell_type": "code",
      "metadata": {
        "id": "IvMXbIv2fFtZ",
        "colab_type": "code",
        "colab": {}
      },
      "source": [
        "# Compiles the model using the Adam optimizer and taking accuracy as a metric\n",
        "model.compile(\n",
        "optimizer=tf.keras.optimizers.Adam(),\n",
        "loss='categorical_crossentropy',\n",
        "    metrics=['acc'])"
      ],
      "execution_count": 0,
      "outputs": []
    },
    {
      "cell_type": "code",
      "metadata": {
        "id": "oyKky3USfWOy",
        "colab_type": "code",
        "colab": {}
      },
      "source": [
        "# Creates a class to collect batch stats such as loss and accuracy from each epoch\n",
        "class CollectBatchStats(tf.keras.callbacks.Callback):\n",
        "  def __init__(self):\n",
        "    self.batch_losses = []\n",
        "    self.batch_acc = []\n",
        "    \n",
        "  def on_train_batch_end(self, batch, logs=None):\n",
        "    self.batch_losses.append(logs['loss'])\n",
        "    self.batch_acc.append(logs['acc'])\n",
        "    self.model.reset_metrics()"
      ],
      "execution_count": 0,
      "outputs": []
    },
    {
      "cell_type": "code",
      "metadata": {
        "id": "4mQB1NzEf9vA",
        "colab_type": "code",
        "colab": {}
      },
      "source": [
        "from keras.callbacks import *\n",
        "from tensorflow.keras.callbacks import *\n",
        "\n",
        "# Declares how many steps for each epoch to run\n",
        "steps_per_epoch = np.ceil(training_image_data.samples/training_image_data.batch_size)\n",
        "\n",
        "# Assigns the class for collecting batch stats to a variable\n",
        "batch_stats = CollectBatchStats()\n",
        "\n",
        "# Trains the model on 11 epochs\n",
        "history = model.fit(training_image_data, epochs=11,\n",
        "                   steps_per_epoch=steps_per_epoch,\n",
        "                   callbacks = [batch_stats])\n",
        "\n",
        "# Save Model to Google Drive Model Folder\n",
        "model.save('../content/gdrive/My Drive/Software Engineering Practice/Model/car_classifier_model.h5')"
      ],
      "execution_count": 0,
      "outputs": []
    },
    {
      "cell_type": "code",
      "metadata": {
        "id": "sH8jJFDksYX_",
        "colab_type": "code",
        "colab": {}
      },
      "source": [
        "#Plots a graph showing how loss of the model has changed over the training steps\n",
        "plt.figure()\n",
        "plt.ylabel(\"Loss\")\n",
        "plt.xlabel(\"Training Steps\")\n",
        "plt.ylim([0,2])\n",
        "plt.plot(batch_stats.batch_losses)\n",
        "\n",
        "#Plots a graph showing how Accuracy of the model has changed over the training steps\n",
        "plt.figure()\n",
        "plt.ylabel(\"Accuracy\")\n",
        "plt.xlabel(\"Training Steps\")\n",
        "plt.ylim([0,1])\n",
        "plt.plot(batch_stats.batch_acc)"
      ],
      "execution_count": 0,
      "outputs": []
    },
    {
      "cell_type": "code",
      "metadata": {
        "id": "S-rjnFdGIrgZ",
        "colab_type": "code",
        "colab": {}
      },
      "source": [
        "# Loads the model from Google Drive Model Folder\n",
        "model = keras.models.load_model('../content/gdrive/My Drive/Software Engineering Practice/Model/car_classifier_model.h5', custom_objects={'KerasLayer':hub.KerasLayer})\n",
        "# Displays a summary of the model\n",
        "model.summary()"
      ],
      "execution_count": 0,
      "outputs": []
    },
    {
      "cell_type": "code",
      "metadata": {
        "id": "M9YgECIjfIbS",
        "colab_type": "code",
        "colab": {}
      },
      "source": [
        "# Sorts the label names and displays the array of names\n",
        "label_names = sorted(training_image_data.class_indices.items(), key=lambda pair:pair[1])\n",
        "label_names = np.array([key.title() for key, value in label_names])\n",
        "label_names"
      ],
      "execution_count": 0,
      "outputs": []
    },
    {
      "cell_type": "code",
      "metadata": {
        "id": "wvmTGdTofSCG",
        "colab_type": "code",
        "colab": {}
      },
      "source": [
        "# Assigns predicted label id's for the image_batch to variables\n",
        "result_batch = model.predict(image_batch)\n",
        "result_id = np.argmax(result_batch, axis=-1)\n",
        "result_labels_batch = label_names[result_id]\n",
        "\n",
        "label_id = np.argmax(label_batch, axis=-1)\n"
      ],
      "execution_count": 0,
      "outputs": []
    },
    {
      "cell_type": "code",
      "metadata": {
        "id": "e07TnNzQfb-J",
        "colab_type": "code",
        "colab": {}
      },
      "source": [
        "# Displays a plot of 30 images with the prediction as each images title, the title of the images is green if correct and red if incorrect\n",
        "plt.figure(figsize=(25,19))\n",
        "for n in range(30):\n",
        "  plt.subplot(6,5,n+1)\n",
        "  plt.imshow(image_batch[n])\n",
        "  color = \"green\" if result_id[n] == label_id[n] else \"red\"\n",
        "  plt.title(result_labels_batch[n].title(), color=color)\n",
        "  plt.axis('off')\n",
        "  _ = plt.suptitle(\"Model predictions (Names Will Be Green If Correct And Red If Incorrect)\")"
      ],
      "execution_count": 0,
      "outputs": []
    }
  ]
}